{
 "cells": [
  {
   "cell_type": "code",
   "execution_count": 2,
   "metadata": {},
   "outputs": [],
   "source": [
    "import numpy as np\n",
    "import pandas as pd\n",
    "import matplotlib.pyplot as plt\n",
    "import seaborn as sns\n",
    "import networkx as nx"
   ]
  },
  {
   "cell_type": "markdown",
   "metadata": {},
   "source": [
    "### Checking Edges and Labels "
   ]
  },
  {
   "cell_type": "code",
   "execution_count": 17,
   "metadata": {},
   "outputs": [
    {
     "data": {
      "text/html": [
       "<div>\n",
       "<style scoped>\n",
       "    .dataframe tbody tr th:only-of-type {\n",
       "        vertical-align: middle;\n",
       "    }\n",
       "\n",
       "    .dataframe tbody tr th {\n",
       "        vertical-align: top;\n",
       "    }\n",
       "\n",
       "    .dataframe thead th {\n",
       "        text-align: right;\n",
       "    }\n",
       "</style>\n",
       "<table border=\"1\" class=\"dataframe\">\n",
       "  <thead>\n",
       "    <tr style=\"text-align: right;\">\n",
       "      <th></th>\n",
       "      <th>Identifier</th>\n",
       "      <th>Citing Paper</th>\n",
       "      <th>Cited Paper</th>\n",
       "    </tr>\n",
       "  </thead>\n",
       "  <tbody>\n",
       "    <tr>\n",
       "      <th>0</th>\n",
       "      <td>33824</td>\n",
       "      <td>paper:19127292</td>\n",
       "      <td>paper:17363749</td>\n",
       "    </tr>\n",
       "    <tr>\n",
       "      <th>1</th>\n",
       "      <td>37511</td>\n",
       "      <td>paper:19668377</td>\n",
       "      <td>paper:17293876</td>\n",
       "    </tr>\n",
       "    <tr>\n",
       "      <th>2</th>\n",
       "      <td>6735</td>\n",
       "      <td>paper:1313726</td>\n",
       "      <td>paper:3002783</td>\n",
       "    </tr>\n",
       "    <tr>\n",
       "      <th>3</th>\n",
       "      <td>33493</td>\n",
       "      <td>paper:19110882</td>\n",
       "      <td>paper:14578298</td>\n",
       "    </tr>\n",
       "    <tr>\n",
       "      <th>4</th>\n",
       "      <td>27380</td>\n",
       "      <td>paper:18606979</td>\n",
       "      <td>paper:10333910</td>\n",
       "    </tr>\n",
       "  </tbody>\n",
       "</table>\n",
       "</div>"
      ],
      "text/plain": [
       "   Identifier    Citing Paper     Cited Paper\n",
       "0       33824  paper:19127292  paper:17363749\n",
       "1       37511  paper:19668377  paper:17293876\n",
       "2        6735   paper:1313726   paper:3002783\n",
       "3       33493  paper:19110882  paper:14578298\n",
       "4       27380  paper:18606979  paper:10333910"
      ]
     },
     "execution_count": 17,
     "metadata": {},
     "output_type": "execute_result"
    }
   ],
   "source": [
    "# paper_data = pd.read_csv('pubmed-diabetes/Pubmed-Diabetes.NODE.paper.tab', sep='\\t', dtype=str, on_bad_lines='skip')\n",
    "\n",
    "cites_data = pd.read_csv('pubmed-diabetes/Pubmed-Diabetes.DIRECTED.cites.tab', sep='\\t', header=None, skiprows=2)\n",
    "cites_data.columns = ['Identifier', 'Citing Paper', 'Separator', 'Cited Paper']\n",
    "cites_data.drop(columns=['Separator'], inplace=True)\n",
    "cites_data.head()"
   ]
  },
  {
   "cell_type": "code",
   "execution_count": null,
   "metadata": {},
   "outputs": [],
   "source": []
  }
 ],
 "metadata": {
  "kernelspec": {
   "display_name": "venv",
   "language": "python",
   "name": "python3"
  },
  "language_info": {
   "codemirror_mode": {
    "name": "ipython",
    "version": 3
   },
   "file_extension": ".py",
   "mimetype": "text/x-python",
   "name": "python",
   "nbconvert_exporter": "python",
   "pygments_lexer": "ipython3",
   "version": "3.8.9"
  }
 },
 "nbformat": 4,
 "nbformat_minor": 2
}
