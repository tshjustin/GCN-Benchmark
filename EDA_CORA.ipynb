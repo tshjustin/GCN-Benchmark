{
 "cells": [
  {
   "cell_type": "code",
   "execution_count": 2,
   "metadata": {
    "metadata": {}
   },
   "outputs": [],
   "source": [
    "import pandas as pd\n",
    "import networkx as nx\n",
    "import matplotlib.pyplot as plt\n",
    "import torch \n",
    "import numpy as np "
   ]
  },
  {
   "cell_type": "code",
   "execution_count": 3,
   "metadata": {
    "metadata": {}
   },
   "outputs": [],
   "source": [
    "def load_cora_data(cora_content_path, cora_cites_path):\n",
    "    \"\"\"Load Cora Dataset\"\"\"\n",
    "    column_names = ['id'] + [f'word_{i}' for i in range(1433)] + ['class_label'] # number of columns in cora.content\n",
    "    cora_content = pd.read_csv(cora_content_path, sep='\\s+', header=None, names=column_names)\n",
    "    cora_cites = pd.read_csv(cora_cites_path, sep='\\t', header=None, names=['citing_paper', 'cited_paper'])\n",
    "    \n",
    "    return cora_content, cora_cites\n",
    "\n",
    "\n",
    "def create_citation_graph(cora_cites):\n",
    "    \"\"\"Creates Citation Graph\"\"\"\n",
    "    G = nx.Graph()\n",
    "    edges = list(zip(cora_cites['citing_paper'], cora_cites['cited_paper']))\n",
    "    G.add_edges_from(edges)\n",
    "    \n",
    "    return G\n",
    "\n",
    "\n",
    "def visualize_graph(G):\n",
    "    \"\"\"Viusalize Citation Graph\"\"\"\n",
    "    plt.figure(figsize=(10, 10))\n",
    "    pos = nx.spring_layout(G, seed=42) \n",
    "    nx.draw(G, pos, node_size=10, node_color='blue', edge_color='gray', with_labels=False)\n",
    "    plt.show()"
   ]
  },
  {
   "cell_type": "code",
   "execution_count": 4,
   "metadata": {
    "metadata": {}
   },
   "outputs": [
    {
     "name": "stdout",
     "output_type": "stream",
     "text": [
      "Columns of cora.content:\n",
      "Index(['id', 'word_0', 'word_1', 'word_2', 'word_3', 'word_4', 'word_5',\n",
      "       'word_6', 'word_7', 'word_8',\n",
      "       ...\n",
      "       'word_1424', 'word_1425', 'word_1426', 'word_1427', 'word_1428',\n",
      "       'word_1429', 'word_1430', 'word_1431', 'word_1432', 'class_label'],\n",
      "      dtype='object', length=1435)\n",
      "\n",
      "Columns of cora.cites:\n",
      "Index(['citing_paper', 'cited_paper'], dtype='object')\n"
     ]
    }
   ],
   "source": [
    "cora_content_path = 'cora\\cora.content'\n",
    "cora_cites_path = 'cora\\cora.cites'\n",
    "\n",
    "cora_content, cora_cites = load_cora_data(cora_content_path=cora_content_path, cora_cites_path=cora_cites_path)\n",
    "\n",
    "print(\"Columns of cora.content:\")\n",
    "print(cora_content.columns)\n",
    "\n",
    "print(\"\\nColumns of cora.cites:\")\n",
    "print(cora_cites.columns)\n"
   ]
  },
  {
   "cell_type": "code",
   "execution_count": 5,
   "metadata": {
    "metadata": {}
   },
   "outputs": [
    {
     "name": "stdout",
     "output_type": "stream",
     "text": [
      "sample:\n",
      "        id  word_0  word_1  word_2  word_3  word_4  word_5  word_6  word_7  \\\n",
      "0    31336       0       0       0       0       0       0       0       0   \n",
      "1  1061127       0       0       0       0       0       0       0       0   \n",
      "2  1106406       0       0       0       0       0       0       0       0   \n",
      "3    13195       0       0       0       0       0       0       0       0   \n",
      "4    37879       0       0       0       0       0       0       0       0   \n",
      "\n",
      "   word_8  word_9             class_label  \n",
      "0       0       0         Neural_Networks  \n",
      "1       0       0           Rule_Learning  \n",
      "2       0       0  Reinforcement_Learning  \n",
      "3       0       0  Reinforcement_Learning  \n",
      "4       0       0   Probabilistic_Methods  \n"
     ]
    }
   ],
   "source": [
    "# Examine a few samples from CORA Content\n",
    "\n",
    "def sample_cora_content(cora_content, num_rows=5, num_features=10):\n",
    "    sample_columns = ['id'] + [f'word_{i}' for i in range(num_features)] + ['class_label']\n",
    "    sample_data = cora_content[sample_columns].head(num_rows)\n",
    "    print(\"sample:\")\n",
    "    print(sample_data)\n",
    "\n",
    "sample_cora_content(cora_content, num_rows=5, num_features=10)"
   ]
  },
  {
   "cell_type": "markdown",
   "metadata": {},
   "source": [
    "#### Format of data: \n",
    "Source: Citing Paper | \n",
    "Target: Cited Paper\n",
    "\n",
    "\n",
    "### Examining the number of Nodes and Edges "
   ]
  },
  {
   "cell_type": "code",
   "execution_count": 6,
   "metadata": {
    "metadata": {}
   },
   "outputs": [
    {
     "name": "stdout",
     "output_type": "stream",
     "text": [
      "Number nodes: 2708\n",
      "Number edges: 5278\n",
      "Ave degree: 3.90\n"
     ]
    }
   ],
   "source": [
    "G = create_citation_graph(cora_cites=cora_cites)\n",
    "\n",
    "print(f\"Number nodes: {G.number_of_nodes()}\")\n",
    "print(f\"Number edges: {G.number_of_edges()}\")\n",
    "print(f\"Ave degree: {sum(dict(G.degree()).values()) / G.number_of_nodes():.2f}\")\n"
   ]
  },
  {
   "cell_type": "markdown",
   "metadata": {},
   "source": [
    "### Checking proportion of classes"
   ]
  },
  {
   "cell_type": "code",
   "execution_count": 7,
   "metadata": {},
   "outputs": [
    {
     "name": "stdout",
     "output_type": "stream",
     "text": [
      "2708\n",
      "Proportion in CORA Dataset:\n",
      "Case_Based: 298 samples, 0.1100 proportion\n",
      "Genetic_Algorithms: 418 samples, 0.1544 proportion\n",
      "Neural_Networks: 818 samples, 0.3021 proportion\n",
      "Probabilistic_Methods: 426 samples, 0.1573 proportion\n",
      "Reinforcement_Learning: 217 samples, 0.0801 proportion\n",
      "Rule_Learning: 180 samples, 0.0665 proportion\n",
      "Theory: 351 samples, 0.1296 proportion\n"
     ]
    },
    {
     "data": {
      "text/plain": [
       "(array(['Case_Based', 'Genetic_Algorithms', 'Neural_Networks',\n",
       "        'Probabilistic_Methods', 'Reinforcement_Learning', 'Rule_Learning',\n",
       "        'Theory'], dtype=object),\n",
       " array([298, 418, 818, 426, 217, 180, 351], dtype=int64),\n",
       " array([0.11004431, 0.15435746, 0.30206795, 0.15731167, 0.08013294,\n",
       "        0.06646972, 0.12961595]))"
      ]
     },
     "execution_count": 7,
     "metadata": {},
     "output_type": "execute_result"
    }
   ],
   "source": [
    "def get_labels(cora_content):\n",
    "    labels = cora_content['class_label']\n",
    "    print(len(labels))\n",
    "    \n",
    "    return labels\n",
    "\n",
    "def check_class_proportion(labels):\n",
    "    if isinstance(labels, torch.Tensor):\n",
    "        labels = labels.numpy()\n",
    "    \n",
    "    unique_labels, counts = np.unique(labels, return_counts=True)\n",
    "\n",
    "    total_samples = len(labels)\n",
    "    proportions = counts / total_samples\n",
    "\n",
    "    print(\"Proportion in CORA Dataset:\")\n",
    "    for label, count, proportion in zip(unique_labels, counts, proportions):\n",
    "        print(f\"{label}: {count} samples, {proportion:.4f} proportion\")\n",
    "    \n",
    "    return unique_labels, counts, proportions\n",
    "\n",
    "labels = get_labels(cora_content)\n",
    "check_class_proportion(labels)"
   ]
  },
  {
   "cell_type": "markdown",
   "metadata": {},
   "source": [
    "### Visualizing Graph "
   ]
  },
  {
   "cell_type": "code",
   "execution_count": 9,
   "metadata": {
    "metadata": {}
   },
   "outputs": [],
   "source": [
    "# visualize_graph(G)"
   ]
  },
  {
   "cell_type": "code",
   "execution_count": 14,
   "metadata": {},
   "outputs": [
    {
     "name": "stdout",
     "output_type": "stream",
     "text": [
      "Total Links: 5429\n",
      "Same Class Links: 4418\n",
      "Homophily Score: 0.8138\n"
     ]
    }
   ],
   "source": [
    "def calculate_homophily_score(cora_content, cora_cites):\n",
    "    cora_content = cora_content[['id', 'class_label']]\n",
    "    \n",
    "    # Merge citing paper's class\n",
    "    cora_cites = cora_cites.merge(cora_content, left_on='citing_paper', right_on='id', how='left')\n",
    "    cora_cites.rename(columns={'class_label': 'citing_class'}, inplace=True)\n",
    "    \n",
    "    # Merge cited paper's class\n",
    "    cora_cites = cora_cites.merge(cora_content, left_on='cited_paper', right_on='id', how='left')\n",
    "    cora_cites.rename(columns={'class_label': 'cited_class'}, inplace=True)\n",
    "    \n",
    "    # Count same-class connections\n",
    "    same_class_links = (cora_cites['citing_class'] == cora_cites['cited_class']).sum()\n",
    "    total_links = len(cora_cites)\n",
    "    \n",
    "    homophily_score = same_class_links / total_links\n",
    "    \n",
    "    print(f\"Total Links: {total_links}\")\n",
    "    print(f\"Same Class Links: {same_class_links}\")\n",
    "    print(f\"Homophily Score: {homophily_score:.4f}\")\n",
    "    \n",
    "    return homophily_score\n",
    "\n",
    "homophily_score = calculate_homophily_score(cora_content, cora_cites)\n"
   ]
  }
 ],
 "metadata": {
  "kernelspec": {
   "display_name": "venv",
   "language": "python",
   "name": "python3"
  },
  "language_info": {
   "codemirror_mode": {
    "name": "ipython",
    "version": 3
   },
   "file_extension": ".py",
   "mimetype": "text/x-python",
   "name": "python",
   "nbconvert_exporter": "python",
   "pygments_lexer": "ipython3",
   "version": "3.8.9"
  }
 },
 "nbformat": 4,
 "nbformat_minor": 2
}
