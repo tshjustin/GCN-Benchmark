{
 "cells": [
  {
   "cell_type": "code",
   "execution_count": 1,
   "metadata": {},
   "outputs": [],
   "source": [
    "import pandas as pd\n",
    "import networkx as nx\n",
    "import matplotlib.pyplot as plt"
   ]
  },
  {
   "cell_type": "code",
   "execution_count": 2,
   "metadata": {},
   "outputs": [],
   "source": [
    "def load_squirrel_data(edges_path, features_path):\n",
    "    \"\"\"Load Squirrel Dataset\"\"\"\n",
    "    edges = pd.read_csv(edges_path, sep='\\s+', header=0)  # Assuming space-separated values with header\n",
    "    features = pd.read_csv(features_path, sep='\\s+', header=0)  # Assuming space-separated values with header\n",
    "    \n",
    "    return features, edges\n",
    "\n",
    "def create_graph(edges):\n",
    "    \"\"\"Creates a Graph from the edge list\"\"\"\n",
    "    G = nx.Graph()\n",
    "    edges_list = list(zip(edges['node_id'], edges['node_id.1']))\n",
    "    G.add_edges_from(edges_list)\n",
    "    \n",
    "    return G\n",
    "\n",
    "def visualize_graph(G):\n",
    "    \"\"\"Visualize the Graph\"\"\"\n",
    "    plt.figure(figsize=(10, 10))\n",
    "    pos = nx.spring_layout(G, seed=42)\n",
    "    nx.draw(G, pos, node_size=10, node_color='blue', edge_color='gray', with_labels=False)\n",
    "    plt.show()"
   ]
  },
  {
   "cell_type": "code",
   "execution_count": 3,
   "metadata": {},
   "outputs": [],
   "source": [
    "edges_path = 'squirrel/out1_graph_edges.txt'\n",
    "features_path = 'squirrel/out1_node_feature_label.txt'\n",
    "\n",
    "# Load the dataset\n",
    "features, edges = load_squirrel_data(edges_path, features_path)"
   ]
  },
  {
   "cell_type": "code",
   "execution_count": 4,
   "metadata": {},
   "outputs": [
    {
     "name": "stdout",
     "output_type": "stream",
     "text": [
      "Columns of node feature label file:\n",
      "Index(['node_id', 'feature', 'label'], dtype='object')\n",
      "\n",
      "Columns of graph edges file:\n",
      "Index(['node_id', 'node_id.1'], dtype='object')\n"
     ]
    }
   ],
   "source": [
    "# Print some basic information\n",
    "print(\"Columns of node feature label file:\")\n",
    "print(features.columns)\n",
    "\n",
    "print(\"\\nColumns of graph edges file:\")\n",
    "print(edges.columns)"
   ]
  },
  {
   "cell_type": "code",
   "execution_count": 6,
   "metadata": {},
   "outputs": [
    {
     "name": "stdout",
     "output_type": "stream",
     "text": [
      "\n",
      "Sample rows from feature data:\n",
      "   node_id                                            feature  label\n",
      "0        0  0,0,0,0,0,0,0,0,0,0,0,0,0,0,0,0,0,0,0,0,0,0,0,...      1\n",
      "1        1  0,0,0,0,0,0,0,0,0,0,0,0,0,0,0,0,0,0,0,0,0,0,0,...      3\n",
      "2        2  0,0,0,0,0,0,0,0,0,0,0,0,0,0,0,0,0,0,0,0,0,0,0,...      0\n",
      "3        3  0,0,0,0,0,0,0,0,0,0,0,0,0,0,0,0,0,0,0,0,0,0,0,...      0\n",
      "4        4  0,0,0,0,0,0,0,0,0,0,0,0,0,0,0,0,0,0,0,0,0,0,0,...      4\n"
     ]
    }
   ],
   "source": [
    "# Sample a few rows from the feature file\n",
    "print(\"\\nSample rows from feature data:\")\n",
    "print(features.head())"
   ]
  },
  {
   "cell_type": "code",
   "execution_count": 7,
   "metadata": {},
   "outputs": [
    {
     "name": "stdout",
     "output_type": "stream",
     "text": [
      "Number of nodes: 5201\n",
      "Number of edges: 198493\n",
      "Average degree: 76.33\n"
     ]
    }
   ],
   "source": [
    "# Create and visualize the graph\n",
    "G = create_graph(edges)\n",
    "print(f\"Number of nodes: {G.number_of_nodes()}\")\n",
    "print(f\"Number of edges: {G.number_of_edges()}\")\n",
    "print(f\"Average degree: {sum(dict(G.degree()).values()) / G.number_of_nodes():.2f}\")"
   ]
  },
  {
   "cell_type": "code",
   "execution_count": 10,
   "metadata": {},
   "outputs": [
    {
     "name": "stdout",
     "output_type": "stream",
     "text": [
      "Number of labels: 5201\n",
      "Proportion in Squirrel Dataset:\n",
      "0: 1042 samples, 0.2003 proportion\n",
      "1: 1040 samples, 0.2000 proportion\n",
      "2: 1039 samples, 0.1998 proportion\n",
      "3: 1040 samples, 0.2000 proportion\n",
      "4: 1040 samples, 0.2000 proportion\n"
     ]
    },
    {
     "data": {
      "text/plain": [
       "(array([0, 1, 2, 3, 4], dtype=int64),\n",
       " array([1042, 1040, 1039, 1040, 1040], dtype=int64),\n",
       " array([0.20034609, 0.19996155, 0.19976928, 0.19996155, 0.19996155]))"
      ]
     },
     "execution_count": 10,
     "metadata": {},
     "output_type": "execute_result"
    }
   ],
   "source": [
    "import numpy as np\n",
    "import torch\n",
    "\n",
    "def get_labels(squirrel_content):\n",
    "    \"\"\"Extracts labels from the Squirrel dataset.\"\"\"\n",
    "    labels = squirrel_content['label'] \n",
    "    print(f\"Number of labels: {len(labels)}\")\n",
    "    \n",
    "    return labels\n",
    "\n",
    "def check_class_proportion(labels):\n",
    "    \"\"\"Checks and prints the proportion of each class label.\"\"\"\n",
    "    if isinstance(labels, torch.Tensor):\n",
    "        labels = labels.numpy()\n",
    "    \n",
    "    unique_labels, counts = np.unique(labels, return_counts=True)\n",
    "\n",
    "    total_samples = len(labels)\n",
    "    proportions = counts / total_samples\n",
    "\n",
    "    print(\"Proportion in Squirrel Dataset:\")\n",
    "    for label, count, proportion in zip(unique_labels, counts, proportions):\n",
    "        print(f\"{label}: {count} samples, {proportion:.4f} proportion\")\n",
    "    \n",
    "    return unique_labels, counts, proportions\n",
    "\n",
    "\n",
    "labels = get_labels(features)  \n",
    "check_class_proportion(labels)\n"
   ]
  },
  {
   "cell_type": "code",
   "execution_count": 9,
   "metadata": {},
   "outputs": [],
   "source": [
    "# visualize_graph(G)"
   ]
  },
  {
   "cell_type": "code",
   "execution_count": 12,
   "metadata": {},
   "outputs": [
    {
     "name": "stdout",
     "output_type": "stream",
     "text": [
      "Number of labels: 5201\n",
      "Total Links: 198493\n",
      "Same Class Links: 44201\n",
      "Homophily Score: 0.2227\n"
     ]
    }
   ],
   "source": [
    "def calculate_homophily_score(graph, labels):\n",
    "    \"\"\"\n",
    "    Calculate the homophily score for a given graph and node labels = proportion of edges that connect nodes with the same label.\n",
    "    \"\"\"\n",
    "    same_label_edges = 0\n",
    "    total_edges = graph.number_of_edges()\n",
    "    \n",
    "    for u, v in graph.edges():\n",
    "        if labels[u] == labels[v]:\n",
    "            same_label_edges += 1\n",
    "    \n",
    "    homophily_score = same_label_edges / total_edges if total_edges > 0 else 0\n",
    "    print(\"Total Links:\", total_edges)\n",
    "    print(\"Same Class Links:\", same_label_edges)\n",
    "    print(f\"Homophily Score: {homophily_score:.4f}\")\n",
    "    \n",
    "    return homophily_score\n",
    "\n",
    "\n",
    "squirrel_labels = get_labels(features) \n",
    "squirrel_graph = create_graph(edges)  \n",
    "squirrel_homophily = calculate_homophily_score(squirrel_graph, squirrel_labels)\n"
   ]
  },
  {
   "cell_type": "code",
   "execution_count": null,
   "metadata": {},
   "outputs": [],
   "source": []
  }
 ],
 "metadata": {
  "kernelspec": {
   "display_name": "venv",
   "language": "python",
   "name": "python3"
  },
  "language_info": {
   "codemirror_mode": {
    "name": "ipython",
    "version": 3
   },
   "file_extension": ".py",
   "mimetype": "text/x-python",
   "name": "python",
   "nbconvert_exporter": "python",
   "pygments_lexer": "ipython3",
   "version": "3.8.9"
  }
 },
 "nbformat": 4,
 "nbformat_minor": 2
}
